{
 "cells": [
  {
   "cell_type": "code",
   "execution_count": null,
   "metadata": {},
   "outputs": [],
   "source": [
    "def exp1_to_exp2(exp1_filename, exp1_shape, exp2_filename, exp2_shape):\n",
    "    # Open the input memmap file in read-only mode with dtype int8\n",
    "    exp1_dataset = np.memmap(exp1_filename, dtype='int8', mode='r', shape=exp1_shape)\n",
    "    \n",
    "    # Create the output memmap file with the given shape and dtype int8\n",
    "    exp2_dataset = np.memmap(exp2_filename, dtype='int8', mode='w+', shape=exp2_shape)\n",
    "    \n",
    "    # Loop over the array and process in chunks to handle large data efficiently\n",
    "    for i in tqdm(range(exp1_shape[0])):\n",
    "        for j in range(exp1_shape[1]):\n",
    "            for k in range(exp1_shape[2]):\n",
    "                # Reshape and reduce the last dimension by averaging pairs\n",
    "                reshaped = exp1_dataset[i, j, k].reshape(49, 2)\n",
    "                reduced = reshaped.mean(axis=-1).astype('int8')\n",
    "                \n",
    "                # Write the reduced data to the new memmap file\n",
    "                exp2_dataset[i, j, k] = reduced\n",
    "    \n",
    "        # Flush changes to the output file\n",
    "        exp2_dataset.flush()\n",
    "\n",
    "exp1_to_exp2(autofocus_path+\"exp1_dataset_cache.dat\", (_dataset_len,128,128,98), autofocus_path+\"exp2_dataset_cache.dat\", (_dataset_len,128,128,49))\n"
   ]
  }
 ],
 "metadata": {
  "language_info": {
   "name": "python"
  }
 },
 "nbformat": 4,
 "nbformat_minor": 2
}
