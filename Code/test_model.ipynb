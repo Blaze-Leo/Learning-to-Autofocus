{
 "cells": [
  {
   "cell_type": "code",
   "execution_count": 1,
   "metadata": {},
   "outputs": [
    {
     "name": "stderr",
     "output_type": "stream",
     "text": [
      "2025-01-20 01:12:25.369385: I tensorflow/core/util/port.cc:113] oneDNN custom operations are on. You may see slightly different numerical results due to floating-point round-off errors from different computation orders. To turn them off, set the environment variable `TF_ENABLE_ONEDNN_OPTS=0`.\n",
      "2025-01-20 01:12:25.409878: E external/local_xla/xla/stream_executor/cuda/cuda_dnn.cc:9261] Unable to register cuDNN factory: Attempting to register factory for plugin cuDNN when one has already been registered\n",
      "2025-01-20 01:12:25.409923: E external/local_xla/xla/stream_executor/cuda/cuda_fft.cc:607] Unable to register cuFFT factory: Attempting to register factory for plugin cuFFT when one has already been registered\n",
      "2025-01-20 01:12:25.411315: E external/local_xla/xla/stream_executor/cuda/cuda_blas.cc:1515] Unable to register cuBLAS factory: Attempting to register factory for plugin cuBLAS when one has already been registered\n",
      "2025-01-20 01:12:25.419126: I tensorflow/core/platform/cpu_feature_guard.cc:182] This TensorFlow binary is optimized to use available CPU instructions in performance-critical operations.\n",
      "To enable the following instructions: AVX2 AVX_VNNI FMA, in other operations, rebuild TensorFlow with the appropriate compiler flags.\n",
      "2025-01-20 01:12:26.687694: W tensorflow/compiler/tf2tensorrt/utils/py_utils.cc:38] TF-TRT Warning: Could not find TensorRT\n"
     ]
    },
    {
     "name": "stdout",
     "output_type": "stream",
     "text": [
      "TensorFlow version: 2.15.0\n",
      "WARNING:tensorflow:From /tmp/ipykernel_36080/1175357019.py:33: is_gpu_available (from tensorflow.python.framework.test_util) is deprecated and will be removed in a future version.\n",
      "Instructions for updating:\n",
      "Use `tf.config.list_physical_devices('GPU')` instead.\n",
      "GPU Available: True\n",
      "[name: \"/device:CPU:0\"\n",
      "device_type: \"CPU\"\n",
      "memory_limit: 268435456\n",
      "locality {\n",
      "}\n",
      "incarnation: 5503346507183623048\n",
      "xla_global_id: -1\n",
      ", name: \"/device:GPU:0\"\n",
      "device_type: \"GPU\"\n",
      "memory_limit: 3585127219\n",
      "locality {\n",
      "  bus_id: 1\n",
      "  links {\n",
      "  }\n",
      "}\n",
      "incarnation: 388807383349710745\n",
      "physical_device_desc: \"device: 0, name: NVIDIA GeForce RTX 3050 Laptop GPU, pci bus id: 0000:01:00.0, compute capability: 8.6\"\n",
      "xla_global_id: 416903419\n",
      "]\n"
     ]
    },
    {
     "name": "stderr",
     "output_type": "stream",
     "text": [
      "2025-01-20 01:12:29.141379: I external/local_xla/xla/stream_executor/cuda/cuda_executor.cc:901] successful NUMA node read from SysFS had negative value (-1), but there must be at least one NUMA node, so returning NUMA node zero. See more at https://github.com/torvalds/linux/blob/v6.0/Documentation/ABI/testing/sysfs-bus-pci#L344-L355\n",
      "2025-01-20 01:12:29.169666: I external/local_xla/xla/stream_executor/cuda/cuda_executor.cc:901] successful NUMA node read from SysFS had negative value (-1), but there must be at least one NUMA node, so returning NUMA node zero. See more at https://github.com/torvalds/linux/blob/v6.0/Documentation/ABI/testing/sysfs-bus-pci#L344-L355\n",
      "2025-01-20 01:12:29.170735: I external/local_xla/xla/stream_executor/cuda/cuda_executor.cc:901] successful NUMA node read from SysFS had negative value (-1), but there must be at least one NUMA node, so returning NUMA node zero. See more at https://github.com/torvalds/linux/blob/v6.0/Documentation/ABI/testing/sysfs-bus-pci#L344-L355\n",
      "2025-01-20 01:12:29.251928: I external/local_xla/xla/stream_executor/cuda/cuda_executor.cc:901] successful NUMA node read from SysFS had negative value (-1), but there must be at least one NUMA node, so returning NUMA node zero. See more at https://github.com/torvalds/linux/blob/v6.0/Documentation/ABI/testing/sysfs-bus-pci#L344-L355\n",
      "2025-01-20 01:12:29.253012: I external/local_xla/xla/stream_executor/cuda/cuda_executor.cc:901] successful NUMA node read from SysFS had negative value (-1), but there must be at least one NUMA node, so returning NUMA node zero. See more at https://github.com/torvalds/linux/blob/v6.0/Documentation/ABI/testing/sysfs-bus-pci#L344-L355\n",
      "2025-01-20 01:12:29.253965: I external/local_xla/xla/stream_executor/cuda/cuda_executor.cc:901] successful NUMA node read from SysFS had negative value (-1), but there must be at least one NUMA node, so returning NUMA node zero. See more at https://github.com/torvalds/linux/blob/v6.0/Documentation/ABI/testing/sysfs-bus-pci#L344-L355\n",
      "2025-01-20 01:12:29.254872: I tensorflow/core/common_runtime/gpu/gpu_device.cc:1929] Created device /job:localhost/replica:0/task:0/device:GPU:0 with 3419 MB memory:  -> device: 0, name: NVIDIA GeForce RTX 3050 Laptop GPU, pci bus id: 0000:01:00.0, compute capability: 8.6\n",
      "2025-01-20 01:12:29.256287: I external/local_xla/xla/stream_executor/cuda/cuda_executor.cc:901] successful NUMA node read from SysFS had negative value (-1), but there must be at least one NUMA node, so returning NUMA node zero. See more at https://github.com/torvalds/linux/blob/v6.0/Documentation/ABI/testing/sysfs-bus-pci#L344-L355\n",
      "2025-01-20 01:12:29.257296: I external/local_xla/xla/stream_executor/cuda/cuda_executor.cc:901] successful NUMA node read from SysFS had negative value (-1), but there must be at least one NUMA node, so returning NUMA node zero. See more at https://github.com/torvalds/linux/blob/v6.0/Documentation/ABI/testing/sysfs-bus-pci#L344-L355\n",
      "2025-01-20 01:12:29.258229: I external/local_xla/xla/stream_executor/cuda/cuda_executor.cc:901] successful NUMA node read from SysFS had negative value (-1), but there must be at least one NUMA node, so returning NUMA node zero. See more at https://github.com/torvalds/linux/blob/v6.0/Documentation/ABI/testing/sysfs-bus-pci#L344-L355\n",
      "2025-01-20 01:12:29.259177: I external/local_xla/xla/stream_executor/cuda/cuda_executor.cc:901] successful NUMA node read from SysFS had negative value (-1), but there must be at least one NUMA node, so returning NUMA node zero. See more at https://github.com/torvalds/linux/blob/v6.0/Documentation/ABI/testing/sysfs-bus-pci#L344-L355\n",
      "2025-01-20 01:12:29.260129: I external/local_xla/xla/stream_executor/cuda/cuda_executor.cc:901] successful NUMA node read from SysFS had negative value (-1), but there must be at least one NUMA node, so returning NUMA node zero. See more at https://github.com/torvalds/linux/blob/v6.0/Documentation/ABI/testing/sysfs-bus-pci#L344-L355\n",
      "2025-01-20 01:12:29.261030: I tensorflow/core/common_runtime/gpu/gpu_device.cc:1929] Created device /device:GPU:0 with 3419 MB memory:  -> device: 0, name: NVIDIA GeForce RTX 3050 Laptop GPU, pci bus id: 0000:01:00.0, compute capability: 8.6\n",
      "2025-01-20 01:12:29.261199: I external/local_xla/xla/stream_executor/cuda/cuda_executor.cc:901] successful NUMA node read from SysFS had negative value (-1), but there must be at least one NUMA node, so returning NUMA node zero. See more at https://github.com/torvalds/linux/blob/v6.0/Documentation/ABI/testing/sysfs-bus-pci#L344-L355\n",
      "2025-01-20 01:12:29.262151: I external/local_xla/xla/stream_executor/cuda/cuda_executor.cc:901] successful NUMA node read from SysFS had negative value (-1), but there must be at least one NUMA node, so returning NUMA node zero. See more at https://github.com/torvalds/linux/blob/v6.0/Documentation/ABI/testing/sysfs-bus-pci#L344-L355\n",
      "2025-01-20 01:12:29.263059: I external/local_xla/xla/stream_executor/cuda/cuda_executor.cc:901] successful NUMA node read from SysFS had negative value (-1), but there must be at least one NUMA node, so returning NUMA node zero. See more at https://github.com/torvalds/linux/blob/v6.0/Documentation/ABI/testing/sysfs-bus-pci#L344-L355\n",
      "2025-01-20 01:12:29.264013: I external/local_xla/xla/stream_executor/cuda/cuda_executor.cc:901] successful NUMA node read from SysFS had negative value (-1), but there must be at least one NUMA node, so returning NUMA node zero. See more at https://github.com/torvalds/linux/blob/v6.0/Documentation/ABI/testing/sysfs-bus-pci#L344-L355\n",
      "2025-01-20 01:12:29.264944: I external/local_xla/xla/stream_executor/cuda/cuda_executor.cc:901] successful NUMA node read from SysFS had negative value (-1), but there must be at least one NUMA node, so returning NUMA node zero. See more at https://github.com/torvalds/linux/blob/v6.0/Documentation/ABI/testing/sysfs-bus-pci#L344-L355\n",
      "2025-01-20 01:12:29.265833: I tensorflow/core/common_runtime/gpu/gpu_device.cc:1929] Created device /device:GPU:0 with 3419 MB memory:  -> device: 0, name: NVIDIA GeForce RTX 3050 Laptop GPU, pci bus id: 0000:01:00.0, compute capability: 8.6\n"
     ]
    }
   ],
   "source": [
    "import os\n",
    "#os.environ[\"TF_GPU_THREAD_MODE\"] = \"gpu_private\"\n",
    "\n",
    "from pprint import pprint\n",
    "import numpy as np\n",
    "import tensorflow as tf\n",
    "import keras\n",
    "from keras.callbacks import Callback\n",
    "from tensorflow.python.client import device_lib\n",
    "from keras.applications import MobileNetV2\n",
    "from keras.layers import Dense\n",
    "from keras.models import Model\n",
    "from keras.optimizers import Adam\n",
    "# from keras.optimizers import SGD\n",
    "from keras.utils import Sequence\n",
    "\n",
    "# os.environ[\"TF_DATA_EXPERIMENTAL_OPTIMIZATION_AUTOTUNE_RAM_BUDGET\"] = \"18884901888\"\n",
    "\n",
    "\n",
    "gpu_options = tf.compat.v1.GPUOptions(per_process_gpu_memory_fraction=0.9)\n",
    "sess = tf.compat.v1.Session(config=tf.compat.v1.ConfigProto(gpu_options=gpu_options))\n",
    "\n",
    "# gpus = tf.config.experimental.list_physical_devices('GPU')\n",
    "# if gpus:\n",
    "#     try:\n",
    "#         for gpu in gpus:\n",
    "#             tf.config.experimental.set_memory_growth(gpu, True)\n",
    "#         print(\"Memory growth enabled for GPUs\")\n",
    "#     except RuntimeError as e:\n",
    "#         print(f\"Error enabling memory growth: {e}\")\n",
    "\n",
    "print(\"TensorFlow version:\", tf.__version__)\n",
    "print(\"GPU Available:\", tf.test.is_gpu_available())\n",
    "\n",
    "# Get detailed device information\n",
    "print(device_lib.list_local_devices())"
   ]
  },
  {
   "cell_type": "code",
   "execution_count": 3,
   "metadata": {},
   "outputs": [],
   "source": [
    "memmap_path='/mnt/Velocity_Vault/Autofocus/Dataset_Storage/'\n",
    "test_size=47\n",
    "num_classes=49\n",
    "patch_num=12\n",
    "\n",
    "test_dataset = np.memmap(memmap_path+\"test_dataset\", dtype=np.float64, mode='r', shape=(patch_num*test_size,128, 128,98))\n",
    "test_truth = np.memmap(memmap_path+\"test_truth\", dtype=int, mode='r', shape=(patch_num*test_size))"
   ]
  },
  {
   "cell_type": "code",
   "execution_count": 4,
   "metadata": {},
   "outputs": [
    {
     "name": "stderr",
     "output_type": "stream",
     "text": [
      "2025-01-20 01:12:40.671125: I external/local_xla/xla/stream_executor/cuda/cuda_executor.cc:901] successful NUMA node read from SysFS had negative value (-1), but there must be at least one NUMA node, so returning NUMA node zero. See more at https://github.com/torvalds/linux/blob/v6.0/Documentation/ABI/testing/sysfs-bus-pci#L344-L355\n",
      "2025-01-20 01:12:40.672275: I external/local_xla/xla/stream_executor/cuda/cuda_executor.cc:901] successful NUMA node read from SysFS had negative value (-1), but there must be at least one NUMA node, so returning NUMA node zero. See more at https://github.com/torvalds/linux/blob/v6.0/Documentation/ABI/testing/sysfs-bus-pci#L344-L355\n",
      "2025-01-20 01:12:40.673231: I external/local_xla/xla/stream_executor/cuda/cuda_executor.cc:901] successful NUMA node read from SysFS had negative value (-1), but there must be at least one NUMA node, so returning NUMA node zero. See more at https://github.com/torvalds/linux/blob/v6.0/Documentation/ABI/testing/sysfs-bus-pci#L344-L355\n",
      "2025-01-20 01:12:40.674247: I external/local_xla/xla/stream_executor/cuda/cuda_executor.cc:901] successful NUMA node read from SysFS had negative value (-1), but there must be at least one NUMA node, so returning NUMA node zero. See more at https://github.com/torvalds/linux/blob/v6.0/Documentation/ABI/testing/sysfs-bus-pci#L344-L355\n",
      "2025-01-20 01:12:40.675272: I external/local_xla/xla/stream_executor/cuda/cuda_executor.cc:901] successful NUMA node read from SysFS had negative value (-1), but there must be at least one NUMA node, so returning NUMA node zero. See more at https://github.com/torvalds/linux/blob/v6.0/Documentation/ABI/testing/sysfs-bus-pci#L344-L355\n",
      "2025-01-20 01:12:40.676162: I external/local_xla/xla/stream_executor/cuda/cuda_executor.cc:901] successful NUMA node read from SysFS had negative value (-1), but there must be at least one NUMA node, so returning NUMA node zero. See more at https://github.com/torvalds/linux/blob/v6.0/Documentation/ABI/testing/sysfs-bus-pci#L344-L355\n",
      "2025-01-20 01:12:40.677117: I external/local_xla/xla/stream_executor/cuda/cuda_executor.cc:901] successful NUMA node read from SysFS had negative value (-1), but there must be at least one NUMA node, so returning NUMA node zero. See more at https://github.com/torvalds/linux/blob/v6.0/Documentation/ABI/testing/sysfs-bus-pci#L344-L355\n",
      "2025-01-20 01:12:40.678050: I external/local_xla/xla/stream_executor/cuda/cuda_executor.cc:901] successful NUMA node read from SysFS had negative value (-1), but there must be at least one NUMA node, so returning NUMA node zero. See more at https://github.com/torvalds/linux/blob/v6.0/Documentation/ABI/testing/sysfs-bus-pci#L344-L355\n",
      "2025-01-20 01:12:40.678968: I tensorflow/core/common_runtime/gpu/gpu_device.cc:1929] Created device /job:localhost/replica:0/task:0/device:GPU:0 with 3419 MB memory:  -> device: 0, name: NVIDIA GeForce RTX 3050 Laptop GPU, pci bus id: 0000:01:00.0, compute capability: 8.6\n"
     ]
    }
   ],
   "source": [
    "def ordinal_loss(y_true, y_pred):\n",
    "    y_true = tf.cast(y_true, tf.float32)\n",
    "    return tf.reduce_mean(tf.square(y_true - y_pred),axis=1)\n",
    "\n",
    "from keras.models import load_model\n",
    "\n",
    "\n",
    "model_path='/mnt/Velocity_Vault/Autofocus/Model/Model_V1/model_epoch_2.keras'\n",
    "\n",
    "\n",
    "model=load_model(model_path,custom_objects={'ordinal_loss': ordinal_loss})"
   ]
  },
  {
   "cell_type": "code",
   "execution_count": 5,
   "metadata": {},
   "outputs": [
    {
     "name": "stdout",
     "output_type": "stream",
     "text": [
      "(564, 128, 128, 98)\n"
     ]
    }
   ],
   "source": [
    "print(test_dataset.shape)"
   ]
  },
  {
   "cell_type": "code",
   "execution_count": 6,
   "metadata": {},
   "outputs": [
    {
     "name": "stderr",
     "output_type": "stream",
     "text": [
      "2025-01-20 01:12:53.899553: I external/local_xla/xla/stream_executor/cuda/cuda_dnn.cc:454] Loaded cuDNN version 8904\n",
      "2025-01-20 01:12:53.990937: I external/local_tsl/tsl/platform/default/subprocess.cc:304] Start cannot spawn child process: No such file or directory\n"
     ]
    },
    {
     "name": "stdout",
     "output_type": "stream",
     "text": [
      "1/2 [==============>...............] - ETA: 1s"
     ]
    },
    {
     "name": "stderr",
     "output_type": "stream",
     "text": [
      "2025-01-20 01:12:54.317035: I external/local_tsl/tsl/platform/default/subprocess.cc:304] Start cannot spawn child process: No such file or directory\n"
     ]
    },
    {
     "name": "stdout",
     "output_type": "stream",
     "text": [
      "2/2 [==============================] - 1s 151ms/step\n",
      "2/2 [==============================] - 0s 37ms/step\n",
      "2/2 [==============================] - 0s 33ms/step\n",
      "2/2 [==============================] - 0s 35ms/step\n",
      "2/2 [==============================] - 0s 35ms/step\n",
      "2/2 [==============================] - 0s 34ms/step\n",
      "2/2 [==============================] - 0s 34ms/step\n",
      "2/2 [==============================] - 0s 33ms/step\n",
      "2/2 [==============================] - 0s 37ms/step\n",
      "2/2 [==============================] - 0s 36ms/step\n",
      "2/2 [==============================] - 0s 36ms/step\n",
      "2/2 [==============================] - 0s 36ms/step\n",
      "(564, 49)\n"
     ]
    }
   ],
   "source": [
    "\n",
    "predictions=np.zeros((47 * 12, 49), dtype=np.float64)\n",
    "\n",
    "\n",
    "for i in range(12):\n",
    "    test_temp=test_dataset[i*47:(i+1)*47]\n",
    "    pred_temp=model.predict(test_temp)\n",
    "    for j in range(47):\n",
    "        predictions[i*47+j]=pred_temp[j]\n",
    "\n",
    "print(predictions.shape)\n",
    "# pprint(predictions)"
   ]
  },
  {
   "cell_type": "code",
   "execution_count": 7,
   "metadata": {},
   "outputs": [],
   "source": [
    "def get_max_positions(array):\n",
    "    # Find the index of the max value along each row\n",
    "    return np.argmax(array, axis=1)\n",
    "\n",
    "pred_truth=get_max_positions(predictions)"
   ]
  },
  {
   "cell_type": "code",
   "execution_count": 8,
   "metadata": {},
   "outputs": [
    {
     "name": "stdout",
     "output_type": "stream",
     "text": [
      "Exact Correctness \n",
      "\n",
      "\n",
      "Predicted Truth vs Ground Truth -  0.3546099290780142\n"
     ]
    }
   ],
   "source": [
    "def calculate_accuracy(array1, array2):\n",
    "    # Check if both arrays are the same shape\n",
    "    if array1.shape != array2.shape:\n",
    "        raise ValueError(\"Arrays must have the same shape\")\n",
    "    \n",
    "    # Compare the arrays and calculate the accuracy\n",
    "    correct_predictions = np.sum(array1 == array2)\n",
    "    total_elements = array1.size\n",
    "    \n",
    "    accuracy = correct_predictions / total_elements\n",
    "    return accuracy*100\n",
    "\n",
    "pred_test=calculate_accuracy(pred_truth,test_truth)\n",
    "\n",
    "print(\"Exact Correctness \\n\")\n",
    "\n",
    "print(\"\\nPredicted Truth vs Ground Truth - \",pred_test)\n",
    "\n"
   ]
  },
  {
   "cell_type": "code",
   "execution_count": 9,
   "metadata": {},
   "outputs": [
    {
     "name": "stdout",
     "output_type": "stream",
     "text": [
      "memmap([ 8, 14,  5, 13,  5, 12,  1,  7, 12, 10, 13,  5, 12, 12, 12, 16,\n",
      "        21, 15, 16,  7, 24,  9, 13, 18, 14, 12,  6, 15, 13,  9, 13, 11,\n",
      "        17, 18, 11, 11,  7, 28, 27, 23, 21, 27, 28, 23, 22, 18, 31, 30,\n",
      "        12,  8, 17, 20, 19, 19, 20, 13, 33, 27, 23, 19,  8,  7, 22, 34,\n",
      "        17,  3, 20, 24, 11, 17,  4, 13, 10, 39, 36,  4, 25, 29,  8, 45,\n",
      "        31, 35, 34, 45, 20, 24, 22, 28, 18, 18, 27, 15, 25, 26, 25, 27,\n",
      "        28, 20, 29, 22, 21, 23, 18, 17, 29, 20, 17, 17, 18, 19, 18, 17,\n",
      "        16, 13, 16, 19, 12, 15, 14, 14, 16, 19, 23,  6, 20, 23, 14, 19,\n",
      "        19, 19, 21, 17, 38, 29, 22, 37, 40,  4, 15,  5, 13, 10, 35, 20,\n",
      "         9,  7, 23, 18, 22, 12, 23, 12, 23, 17, 17, 20, 19,  9, 14, 14,\n",
      "         8, 11, 19, 20,  6,  6, 13, 13, 10, 18, 11, 18, 15,  6, 30,  8,\n",
      "         4, 24, 31, 32, 20, 23, 17, 16, 18, 19, 29, 19, 20, 17, 23, 15,\n",
      "        22, 19, 20,  9, 16, 13, 14,  4, 11, 17, 28, 14, 21, 34, 21, 23,\n",
      "        20, 24, 22, 16, 33, 24, 32, 23, 22, 12, 21, 23, 25, 21, 14, 25,\n",
      "        24, 22, 23,  8, 11, 15, 18, 12, 17, 21,  4, 13, 19, 16, 21, 20,\n",
      "         5,  5,  4,  4,  4,  5,  6,  5,  4,  6,  5,  5, 12,  1,  4,  4,\n",
      "         6,  1,  8, 13,  4,  7,  7,  5,  5,  2, 19,  6,  7,  4,  1,  8,\n",
      "        18,  7,  6,  8, 11, 11, 10, 10, 11, 16, 12, 11, 17, 13,  7,  7,\n",
      "         8, 11, 10, 13, 16, 13, 15, 17, 12, 14, 17,  9, 17, 14, 19, 16,\n",
      "        10, 11, 17, 29, 19,  3, 10, 24, 22, 17,  1, 13,  2,  6, 16, 14,\n",
      "         2,  2, 21,  1, 19, 15, 23, 16, 14, 15, 24, 23, 18, 18, 24, 14,\n",
      "        11,  1,  2,  5,  1,  5,  5, 13, 13, 12,  2,  7, 18,  8, 18, 15,\n",
      "        10, 18, 23, 11,  4,  4, 17, 43, 15,  5, 10,  7, 32,  4, 48,  9,\n",
      "        33, 17, 14, 13, 15,  5,  8, 28, 19, 29, 34, 18, 16, 17,  5, 28,\n",
      "        32, 36,  9,  7, 35, 24, 20, 15,  6, 11, 26, 40,  5, 12, 35, 33,\n",
      "        11, 16,  5, 30, 22, 37, 22, 37,  9, 33, 31,  5, 21, 23,  9, 37,\n",
      "        15, 14,  2,  5,  4, 21,  8,  9,  7, 19, 10, 19, 18, 30, 10, 20,\n",
      "         5, 21, 14,  7,  6,  4,  5,  5,  5, 23,  7, 16,  3,  4,  2,  3,\n",
      "         3,  2,  3,  4,  3,  3,  2,  3,  5,  9,  6, 12,  3, 13,  4,  4,\n",
      "        10,  7,  6,  8, 16, 18, 17, 19, 11, 19, 14, 10, 19, 18, 16, 18,\n",
      "         9,  8, 19, 14, 13, 16, 13,  2,  6,  8, 13,  8,  1, 22, 20, 22,\n",
      "         1, 18,  1,  2, 17,  2,  1,  2, 25, 30, 22,  1, 12, 13,  2,  2,\n",
      "        16,  8, 22,  2,  1,  6,  2, 15,  2, 26, 24, 26,  1,  2,  9, 14,\n",
      "        25,  3, 21,  2,  3,  2,  2, 10,  1, 35,  2, 20,  8, 16,  5,  8,\n",
      "        23,  6, 11,  6,  2,  1, 33,  7, 20, 22, 26, 12, 20, 20, 31,  3,\n",
      "        34, 31, 10, 29])\n",
      "array([36, 36, 36, 36, 36, 36, 36, 36, 36, 36, 36, 36, 36, 36, 36, 36, 36,\n",
      "       36, 36, 36, 36, 36, 36, 36, 36, 36, 36, 36, 36, 36, 36, 36, 36, 36,\n",
      "       36, 36, 36, 36, 36, 36, 36, 36, 36, 36, 36, 36, 36, 36, 36, 36, 36,\n",
      "       36, 36, 36, 36, 36, 36, 36, 36, 36, 36, 36, 36, 36, 36, 36, 36, 36,\n",
      "       36, 36, 36, 36, 36, 36, 36, 36, 36, 36, 36, 36, 36, 36, 36, 36, 36,\n",
      "       36, 36, 36, 36, 36, 36, 36, 36, 36, 36, 36, 36, 36, 36, 36, 36, 36,\n",
      "       36, 36, 36, 36, 36, 36, 36, 36, 36, 36, 36, 36, 36, 36, 36, 36, 36,\n",
      "       36, 36, 36, 36, 36, 36, 36, 36, 36, 36, 36, 36, 36, 36, 36, 36, 36,\n",
      "       36, 36, 36, 36, 36, 36, 36, 36, 36, 36, 36, 36, 36, 36, 36, 36, 36,\n",
      "       36, 36, 36, 36, 36, 36, 36, 36, 36, 36, 36, 36, 36, 36, 36, 36, 36,\n",
      "       36, 36, 36, 36, 36, 36, 36, 36, 36, 36, 36, 36, 36, 36, 36, 36, 36,\n",
      "       36, 36, 36, 36, 36, 36, 36, 36, 36, 36, 36, 36, 36, 36, 36, 36, 36,\n",
      "       36, 36, 36, 36, 36, 36, 36, 36, 36, 36, 36, 36, 36, 36, 36, 36, 36,\n",
      "       36, 36, 36, 36, 36, 36, 36, 36, 36, 36, 36, 36, 36, 36, 36, 36, 36,\n",
      "       36, 36, 36, 36, 36, 36, 36, 36, 36, 36, 36, 36, 36, 36, 36, 36, 36,\n",
      "       36, 36, 36, 36, 36, 36, 36, 36, 36, 36, 36, 36, 36, 36, 36, 36, 36,\n",
      "       36, 36, 36, 36, 36, 36, 36, 36, 36, 36, 36, 36, 36, 36, 36, 36, 36,\n",
      "       36, 36, 36, 36, 36, 36, 36, 36, 36, 36, 36, 36, 36, 36, 36, 36, 36,\n",
      "       36, 36, 36, 36, 36, 36, 36, 36, 36, 36, 36, 36, 36, 36, 36, 36, 36,\n",
      "       36, 36, 36, 36, 36, 36, 36, 36, 36, 36, 36, 36, 36, 36, 36, 36, 36,\n",
      "       36, 36, 36, 36, 36, 36, 36, 36, 36, 36, 36, 36, 36, 36, 36, 36, 36,\n",
      "       36, 36, 36, 36, 36, 36, 36, 36, 36, 36, 36, 36, 36, 36, 36, 36, 36,\n",
      "       36, 36, 36, 36, 36, 36, 36, 36, 36, 36, 36, 36, 36, 36, 36, 36, 36,\n",
      "       36, 36, 36, 36, 36, 36, 36, 36, 36, 36, 36, 36, 36, 36, 36, 36, 36,\n",
      "       36, 36, 36, 36, 36, 36, 36, 36, 36, 36, 36, 36, 36, 36, 36, 36, 36,\n",
      "       36, 36, 36, 36, 36, 36, 36, 36, 36, 36, 36, 36, 36, 36, 36, 36, 36,\n",
      "       36, 36, 36, 36, 36, 36, 36, 36, 36, 36, 36, 36, 36, 36, 36, 36, 36,\n",
      "       36, 36, 36, 36, 36, 36, 36, 36, 36, 36, 36, 36, 36, 36, 36, 36, 36,\n",
      "       36, 36, 36, 36, 36, 36, 36, 36, 36, 36, 36, 36, 36, 36, 36, 36, 36,\n",
      "       36, 36, 36, 36, 36, 36, 36, 36, 36, 36, 36, 36, 36, 36, 36, 36, 36,\n",
      "       36, 36, 36, 36, 36, 36, 36, 36, 36, 36, 36, 36, 36, 36, 36, 36, 36,\n",
      "       36, 36, 36, 36, 36, 36, 36, 36, 36, 36, 36, 36, 36, 36, 36, 36, 36,\n",
      "       36, 36, 36, 36, 36, 36, 36, 36, 36, 36, 36, 36, 36, 36, 36, 36, 36,\n",
      "       36, 36, 36])\n"
     ]
    }
   ],
   "source": [
    "pprint(test_truth)\n",
    "pprint(pred_truth)\n"
   ]
  },
  {
   "cell_type": "code",
   "execution_count": 10,
   "metadata": {},
   "outputs": [
    {
     "name": "stdout",
     "output_type": "stream",
     "text": [
      "Deviation Correctness - Prediction \n",
      "\n",
      "\n",
      "Max Deviation -  12\n",
      "\n",
      "Avg Deviation -  -20.94858156028369\n",
      "\n",
      "Mean Square Deviation -  524.9982269503546\n"
     ]
    }
   ],
   "source": [
    "def calculate_deviation(predictions, ground_truth):\n",
    "    assert len(predictions) == len(ground_truth), \"Prediction and ground truth lists must have the same length.\"\n",
    "    \n",
    "    new_array = (ground_truth - predictions)\n",
    "    ma=np.max(new_array)\n",
    "    av=np.mean(new_array)\n",
    "    \n",
    "    # Compute squared errors\n",
    "    squared_errors = [(p - gt) ** 2 for p, gt in zip(predictions, ground_truth)]\n",
    "    \n",
    "    # Calculate mean of squared errors\n",
    "    mse = sum(squared_errors) / len(ground_truth)\n",
    "    \n",
    "    return ma,av,mse\n",
    "\n",
    "ma,av,mse=calculate_deviation(pred_truth,test_truth)\n",
    "\n",
    "print(\"Deviation Correctness - Prediction \\n\")\n",
    "\n",
    "print('\\nMax Deviation - ',ma)\n",
    "print('\\nAvg Deviation - ',av)\n",
    "print('\\nMean Square Deviation - ',mse)"
   ]
  },
  {
   "cell_type": "code",
   "execution_count": 11,
   "metadata": {},
   "outputs": [
    {
     "data": {
      "image/png": "[encoded data removed]",
      "text/plain": [
       "<Figure size 800x500 with 1 Axes>"
      ]
     },
     "metadata": {},
     "output_type": "display_data"
    },
    {
     "name": "stdout",
     "output_type": "stream",
     "text": [
      "[[0.32615411 0.368404   0.36886582 ... 0.31225279 0.38851145 0.32363573]\n",
      " [0.32615408 0.36840397 0.36886582 ... 0.31225279 0.38851145 0.32363573]\n",
      " [0.32615411 0.368404   0.36886582 ... 0.31225276 0.38851145 0.32363573]\n",
      " ...\n",
      " [0.32615405 0.368404   0.36886582 ... 0.31225279 0.38851145 0.32363573]\n",
      " [0.32615408 0.36840397 0.36886582 ... 0.31225279 0.38851148 0.32363573]\n",
      " [0.32615408 0.36840397 0.36886582 ... 0.31225279 0.38851145 0.32363573]]\n"
     ]
    }
   ],
   "source": [
    "import matplotlib.pyplot as plt\n",
    "from collections import Counter\n",
    "import numpy as np\n",
    "\n",
    "def plot_occurrences(numbers):\n",
    "    \"\"\"\n",
    "    Plots a horizontal bar graph of the occurrences of elements in a list.\n",
    "\n",
    "    Parameters:\n",
    "        numbers (list): A list of numbers to analyze.\n",
    "    \"\"\"\n",
    "    # Count occurrences of each element\n",
    "    occurrences = Counter(numbers)\n",
    "    \n",
    "\n",
    "    # Extract keys (unique numbers) and their corresponding values (counts)\n",
    "    elements = list(occurrences.keys())\n",
    "    counts = list(occurrences.values())\n",
    "    print(np.mean(counts))\n",
    "\n",
    "    # Plot a horizontal bar graph\n",
    "    plt.figure(figsize=(8, 5))\n",
    "    plt.barh(elements, counts, color=\"skyblue\")\n",
    "    plt.xlabel(\"Occurrences\")\n",
    "    plt.ylabel(\"Elements\")\n",
    "    plt.title(\"Occurrences of Elements in the List\")\n",
    "    plt.grid(axis=\"x\", linestyle=\"--\", alpha=0.7)\n",
    "    plt.show()\n",
    "    \n",
    "def plot_frame(pred):\n",
    "    \"\"\"\n",
    "    Plots a horizontal bar graph of the occurrences of elements in a list.\n",
    "\n",
    "    Parameters:\n",
    "        numbers (list): A list of numbers to analyze.\n",
    "    \"\"\"\n",
    "    # Count occurrences of each element\n",
    "    \n",
    "    ele=[i for i in range(len(pred))]\n",
    "    # Plot a horizontal bar graph\n",
    "    plt.figure(figsize=(8, 5))\n",
    "    plt.barh(ele, pred, color=\"skyblue\")\n",
    "    plt.xlabel(\"Occurrences\")\n",
    "    plt.ylabel(\"Elements\")\n",
    "    plt.title(\"Occurrences of Elements in the List\")\n",
    "    plt.grid(axis=\"x\", linestyle=\"--\", alpha=0.7)\n",
    "    plt.show()\n",
    "\n",
    "plot_frame(predictions[2])\n",
    "print(predictions)\n",
    "# print(np.sum(predictions, axis=1))"
   ]
  }
 ],
 "metadata": {
  "kernelspec": {
   "display_name": "Python3_11",
   "language": "python",
   "name": "python3"
  },
  "language_info": {
   "codemirror_mode": {
    "name": "ipython",
    "version": 3
   },
   "file_extension": ".py",
   "mimetype": "text/x-python",
   "name": "python",
   "nbconvert_exporter": "python",
   "pygments_lexer": "ipython3",
   "version": "3.11.11"
  }
 },
 "nbformat": 4,
 "nbformat_minor": 2
}
