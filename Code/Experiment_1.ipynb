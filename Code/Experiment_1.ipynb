{
 "cells": [
  {
   "cell_type": "code",
   "execution_count": null,
   "metadata": {},
   "outputs": [],
   "source": [
    "import numpy as np"
   ]
  },
  {
   "cell_type": "code",
   "execution_count": null,
   "metadata": {},
   "outputs": [],
   "source": [
    "memmap_path='/mnt/Velocity_Vault/Autofocus/Dataset_Storage/'\n",
    "\n",
    "small_train_dataset = np.memmap(memmap_path+\"small_train_dataset.bigdata\", dtype=np.float64, mode='r', shape=(9*50,128, 128,98))\n",
    "small_train_truth = np.memmap(memmap_path+\"small_train_truth.bigdata\", dtype=int, mode='r', shape=(9*50))\n",
    "\n",
    "\n",
    "big_size=355\n",
    "\n",
    "train_dataset = np.memmap(memmap_path+\"train_dataset.bigdata\", dtype=np.float64, mode='r', shape=(9*big_size,128, 128,98))\n",
    "train_truth = np.memmap(memmap_path+\"train_truth.bigdata\", dtype=int, mode='r', shape=(9*big_size))\n",
    "\n",
    "\n",
    "test_dataset = np.memmap(memmap_path+\"test_dataset.bigdata\", dtype=np.float64, mode='r', shape=(9*big_size,128, 128,98))\n",
    "test_truth = np.memmap(memmap_path+\"test_truth.bigdata\", dtype=int, mode='r', shape=(9*big_size))"
   ]
  }
 ],
 "metadata": {
  "kernelspec": {
   "display_name": "Python 3",
   "language": "python",
   "name": "python3"
  },
  "language_info": {
   "name": "python",
   "version": "3.12.3"
  }
 },
 "nbformat": 4,
 "nbformat_minor": 2
}
